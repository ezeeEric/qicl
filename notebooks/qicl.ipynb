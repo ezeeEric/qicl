{
 "cells": [
  {
   "cell_type": "markdown",
   "metadata": {},
   "source": [
    "## VQC implementation of a HEP classification problem.\n",
    "\n",
    "@author: Eric Drechsler (dr.eric.drechsler@gmail.com)"
   ]
  },
  {
   "cell_type": "code",
   "execution_count": 1,
   "metadata": {},
   "outputs": [],
   "source": [
    "import pandas\n",
    "import pickle\n",
    "import time\n",
    "time0=time.time()\n",
    "\n",
    "from plotter import plotTruth,plotVars\n",
    "#from datasets import *\n",
    "from qiskit import BasicAer\n",
    "from qiskit.aqua import run_algorithm, QuantumInstance\n",
    "# from qiskit.aqua.algorithms import VQC\n",
    "from vqc import VQC\n",
    "from qiskit.aqua.components.optimizers import SPSA\n",
    "from qiskit.aqua.components.feature_maps import SecondOrderExpansion\n",
    "from qiskit.aqua.components.variational_forms import RYRZ\n",
    "from qiskit.aqua.input import ClassificationInput\n",
    "import numpy as np"
   ]
  },
  {
   "cell_type": "code",
   "execution_count": 2,
   "metadata": {},
   "outputs": [],
   "source": [
    "from argparse import ArgumentParser\n",
    "\n",
    "argParser = ArgumentParser(add_help=False)\n",
    "argParser.add_argument( '-t', '--steerTestRun', action=\"store_true\")\n",
    "argParser.add_argument( '-od', '--steerOutDir', help='Output Directory', default=\".\")\n",
    "argParser.add_argument( '-nevt', '--numberEvents', help='Number of events', default=50)\n",
    "argParser.add_argument( '-sh',   '--numberShots', help='Number of shots', default=100)\n",
    "#this is mainly driving runtime\n",
    "argParser.add_argument( '-mt',   '--maxTrials', help='Max trials SPSA', default=1)\n",
    "argParser.add_argument( '-ss',   '--saveSteps', help='SPSA save steps', default=3)\n",
    "argParser.add_argument( '-vfd',  '--varFormDepth', help='variational form depth', default=2)\n",
    "argParser.add_argument( '-fmd',  '--featMapDepth', help='Feature Map depth', default=3)\n",
    "argParser.add_argument( '-nqb',  '--numberQbits', help='Number of qbits', default=3)\n",
    "#default\n",
    "#argParser.add_argument( '-spsa',  '--spsaoptim', help='Use SPSA optimiser', action='store_true')\n",
    "# argParser.add_argument( '-cob',  '--steerCobylaOptim', help='Use COBYLA optimiser', action='store_true')\n",
    "args = argParser.parse_args('')"
   ]
  },
  {
   "cell_type": "markdown",
   "metadata": {},
   "source": [
    "## Prepare dataset"
   ]
  },
  {
   "cell_type": "code",
   "execution_count": 3,
   "metadata": {},
   "outputs": [
    {
     "name": "stdout",
     "output_type": "stream",
     "text": [
      "Test and Training data ready\n"
     ]
    }
   ],
   "source": [
    "in_df = pandas.read_pickle(\"MixData_PD.pkl\")\n",
    "\n",
    "nevt = int(args.numberEvents)\n",
    "var1 = 'lep1_pt'\n",
    "var2 = 'lep2_pt'\n",
    "var3 = 'reco_zv_mass'\n",
    "nvars = 3\n",
    "\n",
    "y_train_label=in_df['isSignal'].values[:nevt] #[0 1 0 ...]\n",
    "y_test_label=in_df['isSignal'].values[nevt:2*nevt] #same\n",
    "x_train=in_df.loc[:nevt-1,[var1, var2, var3]].values #[[var1 var2 var3], [var1 var2 var3],...]\n",
    "x_test=in_df.loc[nevt:2*nevt-1,[var1, var2, var3]].values\n",
    "y_train=np.eye(2)[y_train_label]\n",
    "y_test=np.eye(2)[y_test_label]\n",
    "\n",
    "trainDict={\"signal\": [], \"background\": []}\n",
    "testDict ={\"signal\": [], \"background\": []}\n",
    "\n",
    "\n",
    "label_names = ['background','signal']\n",
    "# plotVars(x_train, in_df, [var1,var2,var3], label_names)\n",
    "# plotTruth(x_train,in_df,label_names)\n",
    "\n",
    "#TODO better way of dealing with this?\n",
    "for i in range(0,nevt):\n",
    "    if (y_train_label[i]==1):\n",
    "        trainDict[\"signal\"].append(x_train[i].tolist())\n",
    "    else:\n",
    "         trainDict[\"background\"].append(x_train[i].tolist())\n",
    "trainDict={\"signal\": np.array(trainDict[\"signal\"]), \"background\":  np.array(trainDict[\"background\"])}\n",
    "            \n",
    "for i in range(0,nevt):\n",
    "    if (y_test_label[i]==1):\n",
    "        testDict[\"signal\"].append(x_test[i].tolist())\n",
    "    else:\n",
    "         testDict[\"background\"].append(x_test[i].tolist())\n",
    "testDict={\"signal\": np.array(testDict[\"signal\"]), \"background\":  np.array(testDict[\"background\"])}\n",
    "\n",
    "print(\"Test and Training data ready\")"
   ]
  },
  {
   "cell_type": "markdown",
   "metadata": {},
   "source": [
    "## Default VQC implementation"
   ]
  },
  {
   "cell_type": "code",
   "execution_count": 4,
   "metadata": {},
   "outputs": [],
   "source": [
    "def getDefaultVQC():\n",
    "    optimizer = SPSA(\n",
    "                                    max_trials=int(args.maxTrials),\n",
    "                                    c0=4.0,\n",
    "                                    save_steps=int(args.saveSteps),\n",
    "                                    skip_calibration=True\n",
    "    )\n",
    "    feature_map = SecondOrderExpansion(\n",
    "            feature_dimension=int(args.featMapDepth), \n",
    "            depth=int(args.varFormDepth),\n",
    "            entanglement = 'full'\n",
    "    )\n",
    "\n",
    "\n",
    "    var_form = RYRZ(\n",
    "            num_qubits=int(args.numberQbits),\n",
    "            depth=int(args.varFormDepth),\n",
    "            entanglement='full',\n",
    "            entanglement_gate='cx',\n",
    "    )\n",
    "\n",
    "\n",
    "    vqc = VQC(optimizer, feature_map, var_form, trainDict, testDict)\n",
    "\n",
    "    return vqc\n",
    "\n",
    "def defaultVQC(vqc):\n",
    "    backend = BasicAer.get_backend('qasm_simulator')\n",
    "\n",
    "    quantum_instance = QuantumInstance(\n",
    "            backend = backend,\n",
    "            shots=int(args.numberShots),\n",
    "            seed_simulator=420,\n",
    "            seed_transpiler=420,\n",
    "    )\n",
    "\n",
    "    result=None\n",
    "    print(\"Running Algorithm\")\n",
    "    if not args.steerTestRun:\n",
    "        result = vqc.run(quantum_instance)\n",
    "        print(\"testing success ratio: \", result['testing_accuracy'])\n",
    "    return result"
   ]
  },
  {
   "cell_type": "code",
   "execution_count": 1,
   "metadata": {},
   "outputs": [
    {
     "ename": "NameError",
     "evalue": "name 'getDefaultVQC' is not defined",
     "output_type": "error",
     "traceback": [
      "\u001b[0;31m---------------------------------------------------------------------------\u001b[0m",
      "\u001b[0;31mNameError\u001b[0m                                 Traceback (most recent call last)",
      "\u001b[0;32m<ipython-input-1-1ac76d817423>\u001b[0m in \u001b[0;36m<module>\u001b[0;34m\u001b[0m\n\u001b[0;32m----> 1\u001b[0;31m \u001b[0mdefVQC\u001b[0m\u001b[0;34m=\u001b[0m\u001b[0mgetDefaultVQC\u001b[0m\u001b[0;34m(\u001b[0m\u001b[0;34m)\u001b[0m\u001b[0;34m\u001b[0m\u001b[0;34m\u001b[0m\u001b[0m\n\u001b[0m\u001b[1;32m      2\u001b[0m \u001b[0mresult\u001b[0m\u001b[0;34m=\u001b[0m\u001b[0mdefaultVQC\u001b[0m\u001b[0;34m(\u001b[0m\u001b[0mdefVQC\u001b[0m\u001b[0;34m)\u001b[0m\u001b[0;34m\u001b[0m\u001b[0;34m\u001b[0m\u001b[0m\n\u001b[1;32m      3\u001b[0m \u001b[0;31m# print(result)\u001b[0m\u001b[0;34m\u001b[0m\u001b[0;34m\u001b[0m\u001b[0;34m\u001b[0m\u001b[0m\n\u001b[1;32m      4\u001b[0m \u001b[0mdefVQC\u001b[0m\u001b[0;34m\u001b[0m\u001b[0;34m\u001b[0m\u001b[0m\n",
      "\u001b[0;31mNameError\u001b[0m: name 'getDefaultVQC' is not defined"
     ]
    }
   ],
   "source": [
    "defVQC=getDefaultVQC()\n",
    "result=defaultVQC(defVQC)\n",
    "# print(result)\n",
    "defVQC"
   ]
  },
  {
   "cell_type": "markdown",
   "metadata": {},
   "source": [
    "\n",
    "\n",
    "## Visualise default circuit"
   ]
  },
  {
   "cell_type": "code",
   "execution_count": 6,
   "metadata": {},
   "outputs": [
    {
     "ename": "TypeError",
     "evalue": "x must be numpy array.",
     "output_type": "error",
     "traceback": [
      "\u001b[0;31m---------------------------------------------------------------------------\u001b[0m",
      "\u001b[0;31mTypeError\u001b[0m                                 Traceback (most recent call last)",
      "\u001b[0;32m<ipython-input-6-b8c6de0ee5ee>\u001b[0m in \u001b[0;36m<module>\u001b[0;34m\u001b[0m\n\u001b[0;32m----> 1\u001b[0;31m \u001b[0mdefVQC\u001b[0m\u001b[0;34m.\u001b[0m\u001b[0mconstruct_circuit\u001b[0m\u001b[0;34m(\u001b[0m\u001b[0mtrainDict\u001b[0m\u001b[0;34m,\u001b[0m\u001b[0;36m0.1\u001b[0m\u001b[0;34m)\u001b[0m\u001b[0;34m\u001b[0m\u001b[0;34m\u001b[0m\u001b[0m\n\u001b[0m",
      "\u001b[0;32m~/codez/QCL/qicl/vqc.py\u001b[0m in \u001b[0;36mconstruct_circuit\u001b[0;34m(self, x, theta, measurement)\u001b[0m\n\u001b[1;32m    303\u001b[0m         \u001b[0mcr\u001b[0m \u001b[0;34m=\u001b[0m \u001b[0mClassicalRegister\u001b[0m\u001b[0;34m(\u001b[0m\u001b[0mself\u001b[0m\u001b[0;34m.\u001b[0m\u001b[0m_num_qubits\u001b[0m\u001b[0;34m,\u001b[0m \u001b[0mname\u001b[0m\u001b[0;34m=\u001b[0m\u001b[0;34m'c'\u001b[0m\u001b[0;34m)\u001b[0m\u001b[0;34m\u001b[0m\u001b[0;34m\u001b[0m\u001b[0m\n\u001b[1;32m    304\u001b[0m         \u001b[0mqc\u001b[0m \u001b[0;34m=\u001b[0m \u001b[0mQuantumCircuit\u001b[0m\u001b[0;34m(\u001b[0m\u001b[0mqr\u001b[0m\u001b[0;34m,\u001b[0m \u001b[0mcr\u001b[0m\u001b[0;34m)\u001b[0m\u001b[0;34m\u001b[0m\u001b[0;34m\u001b[0m\u001b[0m\n\u001b[0;32m--> 305\u001b[0;31m         \u001b[0mqc\u001b[0m \u001b[0;34m+=\u001b[0m \u001b[0mself\u001b[0m\u001b[0;34m.\u001b[0m\u001b[0m_feature_map\u001b[0m\u001b[0;34m.\u001b[0m\u001b[0mconstruct_circuit\u001b[0m\u001b[0;34m(\u001b[0m\u001b[0mx\u001b[0m\u001b[0;34m,\u001b[0m \u001b[0mqr\u001b[0m\u001b[0;34m)\u001b[0m\u001b[0;34m\u001b[0m\u001b[0;34m\u001b[0m\u001b[0m\n\u001b[0m\u001b[1;32m    306\u001b[0m         \u001b[0mqc\u001b[0m \u001b[0;34m+=\u001b[0m \u001b[0mself\u001b[0m\u001b[0;34m.\u001b[0m\u001b[0m_var_form\u001b[0m\u001b[0;34m.\u001b[0m\u001b[0mconstruct_circuit\u001b[0m\u001b[0;34m(\u001b[0m\u001b[0mtheta\u001b[0m\u001b[0;34m,\u001b[0m \u001b[0mqr\u001b[0m\u001b[0;34m)\u001b[0m\u001b[0;34m\u001b[0m\u001b[0;34m\u001b[0m\u001b[0m\n\u001b[1;32m    307\u001b[0m \u001b[0;34m\u001b[0m\u001b[0m\n",
      "\u001b[0;32m~/codez/virtualenvs/qiskit/lib/python3.7/site-packages/qiskit/aqua/components/feature_maps/pauli_expansion.py\u001b[0m in \u001b[0;36mconstruct_circuit\u001b[0;34m(self, x, qr, inverse)\u001b[0m\n\u001b[1;32m    153\u001b[0m \u001b[0;34m\u001b[0m\u001b[0m\n\u001b[1;32m    154\u001b[0m         \u001b[0;32mif\u001b[0m \u001b[0;32mnot\u001b[0m \u001b[0misinstance\u001b[0m\u001b[0;34m(\u001b[0m\u001b[0mx\u001b[0m\u001b[0;34m,\u001b[0m \u001b[0mnp\u001b[0m\u001b[0;34m.\u001b[0m\u001b[0mndarray\u001b[0m\u001b[0;34m)\u001b[0m\u001b[0;34m:\u001b[0m\u001b[0;34m\u001b[0m\u001b[0;34m\u001b[0m\u001b[0m\n\u001b[0;32m--> 155\u001b[0;31m             \u001b[0;32mraise\u001b[0m \u001b[0mTypeError\u001b[0m\u001b[0;34m(\u001b[0m\u001b[0;34m\"x must be numpy array.\"\u001b[0m\u001b[0;34m)\u001b[0m\u001b[0;34m\u001b[0m\u001b[0;34m\u001b[0m\u001b[0m\n\u001b[0m\u001b[1;32m    156\u001b[0m         \u001b[0;32mif\u001b[0m \u001b[0mx\u001b[0m\u001b[0;34m.\u001b[0m\u001b[0mndim\u001b[0m \u001b[0;34m!=\u001b[0m \u001b[0;36m1\u001b[0m\u001b[0;34m:\u001b[0m\u001b[0;34m\u001b[0m\u001b[0;34m\u001b[0m\u001b[0m\n\u001b[1;32m    157\u001b[0m             \u001b[0;32mraise\u001b[0m \u001b[0mValueError\u001b[0m\u001b[0;34m(\u001b[0m\u001b[0;34m\"x must be 1-D array.\"\u001b[0m\u001b[0;34m)\u001b[0m\u001b[0;34m\u001b[0m\u001b[0;34m\u001b[0m\u001b[0m\n",
      "\u001b[0;31mTypeError\u001b[0m: x must be numpy array."
     ]
    }
   ],
   "source": [
    "defVQC.construct_circuit(trainDict,0.1)"
   ]
  },
  {
   "cell_type": "markdown",
   "metadata": {},
   "source": [
    "## Store output (not done in notebook)"
   ]
  },
  {
   "cell_type": "code",
   "execution_count": null,
   "metadata": {},
   "outputs": [],
   "source": [
    "#time or tag setting in name\n",
    "# outtag=\"_\".join([str(vars(args)[i]) if not \"steer\" in str(i) else \"\" for i in vars(args)])\n",
    "# outtag+=\"_%s\"%(int(time.time()))\n",
    "# pklFile=open(\"{0}/qicl_test_{1}.pkl\".format(args.steerOutDir,outtag),'wb')\n",
    "# pickle.dump( result , pklFile)\n",
    "# pickle.dump( vars(args) , pklFile)\n",
    "\n",
    "# m, s = divmod(time.time()-time0, 60)\n",
    "# h, m = divmod(m, 60)\n",
    "# print(\"Execution time: %d:%02d:%02d\" % (h,m,s))\n",
    "# print(\"Success!\")"
   ]
  }
 ],
 "metadata": {
  "kernelspec": {
   "display_name": "qiskit",
   "language": "python",
   "name": "qiskit"
  },
  "language_info": {
   "codemirror_mode": {
    "name": "ipython",
    "version": 3
   },
   "file_extension": ".py",
   "mimetype": "text/x-python",
   "name": "python",
   "nbconvert_exporter": "python",
   "pygments_lexer": "ipython3",
   "version": "3.7.4"
  }
 },
 "nbformat": 4,
 "nbformat_minor": 2
}
