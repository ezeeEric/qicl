{
 "cells": [
  {
   "cell_type": "markdown",
   "metadata": {},
   "source": [
    "## _*Variational Quantum Classifier*_\n",
    "\n",
    "The QSVM notebook demonstrates a kernel based approach. This notebook shows a variational method.\n",
    "\n",
    "For further information please see: [https://arxiv.org/pdf/1804.11326.pdf](https://arxiv.org/pdf/1804.11326.pdf)\n",
    "\n",
    "\n",
    "**This notebook shows the variational quantum classifier method.**\n",
    "\n",
    "In this file, we show two ways for using the variational quantum classifier: (1) the declarative approach and (2) the programmatic approach. \n"
   ]
  },
  {
   "cell_type": "markdown",
   "metadata": {},
   "source": [
    "### Part I: declarative approach.\n",
    "In the declarative approach, we config a json-like configuration, which defines how the vqc instance is internally constructed. After the execution, it returns the json-like output, which carries the important information (e.g., the details of the vqc instance) and the processed results. "
   ]
  },
  {
   "cell_type": "code",
   "execution_count": 1,
   "metadata": {},
   "outputs": [],
   "source": [
    "from datasets import *\n",
    "from qiskit import BasicAer\n",
    "from qiskit.aqua import run_algorithm, QuantumInstance\n",
    "from qiskit.aqua.algorithms import VQC\n",
    "from qiskit.aqua.components.optimizers import SPSA\n",
    "from qiskit.aqua.components.feature_maps import SecondOrderExpansion\n",
    "from qiskit.aqua.components.variational_forms import RYRZ\n",
    "from qiskit.aqua.utils import split_dataset_to_data_and_labels, map_label_to_class_name\n",
    "from qiskit.aqua.input import ClassificationInput"
   ]
  },
  {
   "cell_type": "markdown",
   "metadata": {},
   "source": [
    "First we prepare the dataset, which is used for training, testing and the finally prediction.\n",
    "\n",
    "*Note: You can easily switch to a different dataset, such as the Breast Cancer dataset, by replacing 'ad_hoc_data' to 'Breast_cancer' below.*"
   ]
  },
  {
   "cell_type": "code",
   "execution_count": 2,
   "metadata": {},
   "outputs": [
    {
     "data": {
      "image/png": "[encoded data removed]",
      "text/plain": [
       "<Figure size 432x288 with 1 Axes>"
      ]
     },
     "metadata": {
      "needs_background": "light"
     },
     "output_type": "display_data"
    },
    {
     "data": {
      "image/png": "[encoded data removed]",
      "text/plain": [
       "<Figure size 432x288 with 1 Axes>"
      ]
     },
     "metadata": {
      "needs_background": "light"
     },
     "output_type": "display_data"
    },
    {
     "name": "stdout",
     "output_type": "stream",
     "text": [
      "{'A': array([[4.27256601, 2.38761042],\n",
      "       [1.94778745, 0.75398224],\n",
      "       [1.13097336, 5.0893801 ],\n",
      "       [0.9424778 , 2.136283  ],\n",
      "       [0.69115038, 2.32477856],\n",
      "       [1.38230077, 1.57079633],\n",
      "       [4.20973416, 5.2150438 ],\n",
      "       [6.1575216 , 3.70707933],\n",
      "       [5.02654825, 4.90088454],\n",
      "       [1.88495559, 0.56548668]]), 'B': array([[0.81681409, 4.83805269],\n",
      "       [3.14159265, 5.15221195],\n",
      "       [1.31946891, 3.89557489],\n",
      "       [4.52389342, 3.83274304],\n",
      "       [3.26725636, 4.52389342],\n",
      "       [0.25132741, 1.88495559],\n",
      "       [5.2150438 , 5.71769863],\n",
      "       [3.45575192, 2.07345115],\n",
      "       [3.01592895, 5.0893801 ],\n",
      "       [4.77522083, 4.08407045]])}\n",
      "\n",
      "[[4.27256601 2.38761042]\n",
      " [1.94778745 0.75398224]\n",
      " [1.13097336 5.0893801 ]\n",
      " [0.9424778  2.136283  ]\n",
      " [0.69115038 2.32477856]\n",
      " [1.38230077 1.57079633]\n",
      " [4.20973416 5.2150438 ]\n",
      " [6.1575216  3.70707933]\n",
      " [5.02654825 4.90088454]\n",
      " [1.88495559 0.56548668]\n",
      " [0.81681409 4.83805269]\n",
      " [3.14159265 5.15221195]\n",
      " [1.31946891 3.89557489]\n",
      " [4.52389342 3.83274304]\n",
      " [3.26725636 4.52389342]\n",
      " [0.25132741 1.88495559]\n",
      " [5.2150438  5.71769863]\n",
      " [3.45575192 2.07345115]\n",
      " [3.01592895 5.0893801 ]\n",
      " [4.77522083 4.08407045]]\n",
      "{'A': 0, 'B': 1}\n"
     ]
    }
   ],
   "source": [
    "feature_dim = 2 # dimension of each data point\n",
    "training_dataset_size = 20\n",
    "testing_dataset_size = 10\n",
    "random_seed = 10598\n",
    "shots = 1024\n",
    "\n",
    "sample_Total, training_input, test_input, class_labels = ad_hoc_data(\n",
    "    training_size=training_dataset_size, \n",
    "    test_size=testing_dataset_size, \n",
    "    n=feature_dim, gap=0.3, PLOT_DATA=True\n",
    ")\n",
    "print(test_input)\n",
    "datapoints, class_to_label = split_dataset_to_data_and_labels(test_input)\n",
    "print()\n",
    "print(datapoints[0])\n",
    "print(class_to_label)"
   ]
  },
  {
   "cell_type": "markdown",
   "metadata": {},
   "source": [
    "Now we create the vqc in the declarative approach.\n",
    "In the following json, we config:\n",
    "- the algorithm name \n",
    "- the variational form\n",
    "- the feature map \n",
    "- the optimizer"
   ]
  },
  {
   "cell_type": "code",
   "execution_count": 3,
   "metadata": {},
   "outputs": [],
   "source": [
    "params = {\n",
    "    'problem': {'name': 'classification', 'random_seed': 10598},\n",
    "    'algorithm': {'name': 'VQC', 'override_SPSA_params': True},\n",
    "    'backend': {'shots': 1024},\n",
    "    'optimizer': {'name': 'SPSA', 'max_trials': 20, 'save_steps': 10},\n",
    "    'variational_form': {'name': 'RYRZ', 'depth': 2},\n",
    "    'feature_map': {'name': 'SecondOrderExpansion', 'depth': 2}\n",
    "}\n",
    "\n",
    "classification_input = ClassificationInput(training_input, test_input, datapoints[0])\n",
    "backend = BasicAer.get_backend('qasm_simulator')"
   ]
  },
  {
   "cell_type": "markdown",
   "metadata": {},
   "source": [
    "With everything setup, we can now run the algorithm.\n",
    "\n",
    "For the testing, the result includes the details and the success ratio.\n",
    "\n",
    "For the prediction, the result includes the predicted labels. "
   ]
  },
  {
   "cell_type": "code",
   "execution_count": 4,
   "metadata": {},
   "outputs": [
    {
     "name": "stdout",
     "output_type": "stream",
     "text": [
      "testing success ratio:  0.75\n",
      "predicted classes: ['A', 'A', 'A', 'B', 'B', 'A', 'A', 'A', 'A', 'A', 'B', 'B', 'B', 'B', 'A', 'A', 'A', 'B', 'B', 'B']\n"
     ]
    }
   ],
   "source": [
    "result = run_algorithm(params, classification_input, backend=backend)\n",
    "print(\"testing success ratio: \", result['testing_accuracy'])\n",
    "print(\"predicted classes:\", result['predicted_classes'])"
   ]
  },
  {
   "cell_type": "markdown",
   "metadata": {},
   "source": [
    "### Part II: programmatic approach.\n",
    "We construct the vqc instance directly from the classes. The programmatic approach offers the users better accessibility, e.g., the users can access the internal state of vqc instance or invoke the methods of the instance. "
   ]
  },
  {
   "cell_type": "markdown",
   "metadata": {},
   "source": [
    "Now we create the vqc in the programmatic approach.\n",
    "- we build the optimizer instance (required by the vqc instance) by instantiating the class SPSA.\n",
    "- We build the feature map instance (required by the vqc instance) by instantiating the class SecondOrderExpansion.\n",
    "- We build the varitional form instance (required by the vqc instance) by instantiating the class RYRZ.\n",
    "- We build the vqc instance by instantiating the class VQC. \n"
   ]
  },
  {
   "cell_type": "code",
   "execution_count": 5,
   "metadata": {},
   "outputs": [],
   "source": [
    "backend = BasicAer.get_backend('qasm_simulator')\n",
    "optimizer = SPSA(max_trials=100, c0=4.0, skip_calibration=True)\n",
    "optimizer.set_options(save_steps=1)\n",
    "feature_map = SecondOrderExpansion(feature_dimension=feature_dim, depth=2)\n",
    "var_form = RYRZ(num_qubits=feature_dim, depth=3)\n",
    "print(training_input,test_input)\n",
    "vqc = VQC(optimizer, feature_map, var_form, training_input, test_input)\n",
    "quantum_instance = QuantumInstance(backend, shots=shots, seed_simulator=random_seed, seed_transpiler=random_seed)"
   ]
  },
  {
   "cell_type": "markdown",
   "metadata": {},
   "source": [
    "Now we run it."
   ]
  },
  {
   "cell_type": "code",
   "execution_count": 6,
   "metadata": {},
   "outputs": [
    {
     "name": "stdout",
     "output_type": "stream",
     "text": [
      "testing success ratio:  1.0\n"
     ]
    }
   ],
   "source": [
    "result = vqc.run(quantum_instance)\n",
    "print(\"testing success ratio: \", result['testing_accuracy'])"
   ]
  },
  {
   "cell_type": "markdown",
   "metadata": {},
   "source": [
    "Different from the declarative approach, the programmatic approach allows the users to invoke APIs upon the vqc instance directly. In the following, we invoke the API \"predict\" upon the trained vqc instance to predict the labels for the newly provided data input.\n",
    "\n",
    "Use the trained model to evaluate data directly, and we store a label_to_class and class_to_label for helping converting between label and class name"
   ]
  },
  {
   "cell_type": "code",
   "execution_count": 7,
   "metadata": {},
   "outputs": [
    {
     "name": "stdout",
     "output_type": "stream",
     "text": [
      "prediction:   [0 0 0 0 0 0 0 0 0 0 1 1 1 1 1 1 1 1 1 1]\n"
     ]
    }
   ],
   "source": [
    "predicted_probs, predicted_labels = vqc.predict(datapoints[0])\n",
    "predicted_classes = map_label_to_class_name(predicted_labels, vqc.label_to_class)\n",
    "print(\"prediction:   {}\".format(predicted_labels))"
   ]
  }
 ],
 "metadata": {
  "kernelspec": {
   "display_name": "Python 3",
   "language": "python",
   "name": "python3"
  },
  "language_info": {
   "codemirror_mode": {
    "name": "ipython",
    "version": 3
   },
   "file_extension": ".py",
   "mimetype": "text/x-python",
   "name": "python",
   "nbconvert_exporter": "python",
   "pygments_lexer": "ipython3",
   "version": "3.7.3"
  }
 },
 "nbformat": 4,
 "nbformat_minor": 1
}
