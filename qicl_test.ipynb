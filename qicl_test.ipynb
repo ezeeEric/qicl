{
 "cells": [
  {
   "cell_type": "markdown",
   "metadata": {},
   "source": [
    "This is a test file for the VQC implementation of a HEP classification problem.\n",
    "\n",
    "@author: Eric Drechsler (dr.eric.drechsler@gmail.com)"
   ]
  },
  {
   "cell_type": "markdown",
   "metadata": {},
   "source": [
    "Copied from qiskit-community-tutorials"
   ]
  },
  {
   "cell_type": "markdown",
   "metadata": {},
   "source": [
    "Copied from qiskit-community-tutorials"
   ]
  },
  {
   "cell_type": "code",
   "execution_count": 1,
   "metadata": {},
   "outputs": [],
   "source": [
    "from datasets import *\n",
    "from qiskit import BasicAer\n",
    "from qiskit.aqua import run_algorithm, QuantumInstance\n",
    "from qiskit.aqua.algorithms import VQC\n",
    "from qiskit.aqua.components.optimizers import SPSA\n",
    "from qiskit.aqua.components.feature_maps import SecondOrderExpansion\n",
    "from qiskit.aqua.components.variational_forms import RYRZ\n",
    "from qiskit.aqua.utils import split_dataset_to_data_and_labels, map_label_to_class_name\n",
    "from qiskit.aqua.input import ClassificationInput\n",
    "import pandas"
   ]
  },
  {
   "cell_type": "code",
   "execution_count": 2,
   "metadata": {},
   "outputs": [],
   "source": [
    "in_df = pandas.read_pickle(\"../MixData_PD.pkl\")\n",
    "\n",
    "nevt = 1000\n",
    "var1 = 'lep1_pt'\n",
    "var2 = 'lep2_pt'\n",
    "var3 = 'reco_zv_mass'\n",
    "nvars = 3\n",
    "\n",
    "y_train_label=in_df['isSignal'].values[:nevt] #[0 1 0 ...]\n",
    "y_test_label=in_df['isSignal'].values[nevt:2*nevt] #same\n",
    "x_train=in_df.loc[:nevt-1,[var1, var2, var3]].values #[[var1 var2 var3], [var1 var2 var3],...]\n",
    "x_test=in_df.loc[nevt:2*nevt-1,[var1, var2, var3]].values\n",
    "y_train=np.eye(2)[y_train_label]\n",
    "y_test=np.eye(2)[y_test_label]\n",
    "\n",
    "trainDict={\"signal\": [], \"background\": []}\n",
    "testDict ={\"signal\": [], \"background\": []}\n",
    "\n",
    "#TODO better way of dealing with this?\n",
    "for i in range(0,nevt):\n",
    "    if (y_train_label[i]==1):\n",
    "        trainDict[\"signal\"].append(x_train[i].tolist())\n",
    "    else:\n",
    "         trainDict[\"background\"].append(x_train[i].tolist())\n",
    "trainDict={\"signal\": np.array(trainDict[\"signal\"]), \"background\":  np.array(trainDict[\"background\"])}\n",
    "            \n",
    "for i in range(0,nevt):\n",
    "    if (y_test_label[i]==1):\n",
    "        testDict[\"signal\"].append(x_test[i].tolist())\n",
    "    else:\n",
    "         testDict[\"background\"].append(x_test[i].tolist())\n",
    "testDict={\"signal\": np.array(testDict[\"signal\"]), \"background\":  np.array(testDict[\"background\"])}"
   ]
  },
  {
   "cell_type": "code",
   "execution_count": 3,
   "metadata": {},
   "outputs": [
    {
     "name": "stdout",
     "output_type": "stream",
     "text": [
      "testing success ratio:  0.488\n",
      "predicted classes: ['background', 'background', 'background', 'signal', 'signal', 'background', 'background', 'background', 'signal', 'background', 'background', 'background', 'signal', 'background', 'background', 'signal', 'signal', 'background', 'background', 'background', 'background', 'signal', 'background', 'signal', 'background', 'background', 'background', 'background', 'signal', 'background', 'background', 'background', 'signal', 'background', 'background', 'signal', 'background', 'background', 'background', 'background', 'background', 'background', 'signal', 'background', 'background', 'background', 'background', 'background', 'background', 'background', 'background', 'signal', 'signal', 'background', 'background', 'signal', 'background', 'background', 'background', 'background', 'signal', 'background', 'background', 'background', 'background', 'signal', 'background', 'signal', 'background', 'background', 'background', 'background', 'background', 'background', 'background', 'background', 'background', 'signal', 'background', 'background', 'background', 'background', 'background', 'background', 'background', 'background', 'background', 'background', 'signal', 'signal', 'background', 'background', 'background', 'background', 'background', 'background', 'background', 'background', 'background', 'background', 'background', 'signal', 'signal', 'background', 'background', 'background', 'signal', 'signal', 'signal', 'background', 'background', 'background', 'background', 'background', 'signal', 'background', 'background', 'background', 'background', 'signal', 'signal', 'signal', 'signal', 'background', 'background', 'signal', 'signal', 'signal', 'background', 'background', 'background', 'background', 'signal', 'background', 'signal', 'background', 'signal', 'background', 'background', 'background', 'signal', 'background', 'background', 'background', 'background', 'background', 'background', 'background', 'background', 'background', 'signal', 'background', 'background', 'background', 'background', 'background', 'signal', 'background', 'background', 'background', 'signal', 'background', 'background', 'signal', 'signal', 'background', 'background', 'background', 'background', 'background', 'background', 'signal', 'background', 'background', 'background', 'signal', 'background', 'background', 'signal', 'background', 'background', 'background', 'background', 'signal', 'signal', 'background', 'signal', 'signal', 'background', 'background', 'background', 'signal', 'signal', 'background', 'background', 'background', 'signal', 'background', 'background', 'background', 'background', 'background', 'background', 'background', 'signal', 'signal', 'background', 'signal', 'background', 'background', 'background', 'background', 'signal', 'signal', 'background', 'background', 'background', 'signal', 'background', 'signal', 'signal', 'background', 'background', 'signal', 'signal', 'signal', 'background', 'background', 'background', 'signal', 'background', 'background', 'background', 'signal', 'background', 'signal', 'background', 'background', 'signal', 'background', 'signal', 'signal', 'signal', 'background', 'background', 'signal', 'background', 'signal', 'background', 'signal', 'signal', 'background', 'background', 'background', 'signal', 'background', 'background', 'signal', 'background', 'background', 'background', 'background', 'background', 'background', 'background', 'signal', 'background', 'background', 'background', 'background', 'background', 'background', 'background', 'signal', 'signal', 'signal', 'background', 'background', 'background', 'background', 'signal', 'background', 'background', 'signal', 'background', 'background', 'signal', 'background', 'signal', 'background', 'signal', 'background', 'background', 'background', 'background', 'signal', 'background', 'background', 'signal', 'background', 'background', 'signal', 'signal', 'background', 'background', 'background', 'background', 'signal', 'background', 'background', 'background', 'background', 'signal', 'background', 'background', 'background', 'background', 'background', 'background', 'background', 'background', 'background', 'background', 'background', 'background', 'signal', 'background', 'signal', 'background', 'background', 'background', 'background', 'background', 'background', 'signal', 'background', 'background', 'background', 'background', 'background', 'signal', 'signal', 'background', 'background', 'background', 'background', 'background', 'background', 'background', 'signal', 'signal', 'background', 'background', 'signal', 'signal', 'background', 'background', 'background', 'background', 'background', 'background', 'background', 'background', 'background', 'background', 'background', 'background', 'background', 'signal', 'background', 'background', 'signal', 'background', 'background', 'background', 'background', 'signal', 'background', 'signal', 'background', 'background', 'signal', 'background', 'background', 'signal', 'background', 'background', 'background', 'background', 'background', 'signal', 'background', 'signal', 'background', 'background', 'background', 'signal', 'background', 'background', 'background', 'background', 'signal', 'signal', 'background', 'background', 'background', 'signal', 'background', 'background', 'signal', 'background', 'background', 'background', 'signal', 'background', 'signal', 'background', 'background', 'background', 'background', 'background', 'signal', 'signal', 'background', 'signal', 'background', 'signal', 'signal', 'background', 'background', 'background', 'background', 'background', 'background', 'background', 'background', 'background', 'background', 'background', 'background', 'background', 'background', 'background', 'signal', 'background', 'background', 'signal', 'background', 'background', 'background', 'background', 'background', 'background', 'background', 'signal', 'background', 'background', 'signal', 'background', 'background', 'signal', 'signal', 'background', 'background', 'background', 'signal', 'background', 'background', 'signal', 'background', 'background', 'signal', 'signal', 'background', 'background', 'background', 'background', 'background', 'signal', 'background', 'background', 'background', 'signal', 'signal', 'background', 'signal', 'background', 'background', 'signal', 'background', 'background', 'signal', 'background', 'signal', 'background', 'signal', 'background', 'signal', 'background', 'background', 'background', 'background', 'signal', 'signal', 'background', 'background', 'background', 'background', 'background', 'background', 'signal', 'background', 'signal', 'signal', 'background', 'background', 'signal', 'background', 'background', 'background', 'background', 'signal', 'signal', 'background', 'signal', 'background', 'signal', 'background', 'background', 'signal', 'background', 'background', 'background', 'signal', 'background', 'background', 'background', 'background', 'background', 'background', 'signal', 'signal', 'background', 'background', 'background', 'background', 'signal', 'background', 'background', 'background', 'background', 'background', 'background', 'background', 'signal', 'background', 'background', 'background', 'signal', 'signal', 'background', 'background', 'signal', 'signal', 'background', 'signal', 'background', 'background', 'background', 'background', 'background', 'signal', 'background', 'background', 'background', 'signal', 'background', 'signal', 'background', 'signal', 'background', 'signal', 'background', 'background', 'background', 'background', 'signal', 'signal', 'background', 'signal', 'background', 'background', 'background', 'background', 'background', 'background', 'background', 'background', 'background', 'background', 'signal', 'signal', 'background', 'background', 'background', 'signal', 'background', 'background', 'background', 'background', 'background', 'signal', 'background', 'background', 'background', 'signal', 'background', 'background', 'background', 'signal', 'background', 'signal', 'signal', 'signal', 'signal', 'signal', 'background', 'background', 'signal', 'background', 'background', 'background', 'background', 'signal', 'signal', 'background', 'background', 'signal', 'background', 'background', 'background', 'signal', 'background', 'background', 'background', 'background', 'background', 'background', 'background', 'background', 'background', 'signal', 'background', 'background', 'background', 'background', 'background', 'background', 'signal', 'signal', 'background', 'signal', 'background', 'background', 'background', 'background', 'background', 'background', 'background', 'background', 'background', 'signal', 'background', 'background', 'signal', 'signal', 'background', 'signal', 'background', 'signal', 'background', 'background', 'background', 'background', 'signal', 'background', 'background', 'signal', 'background', 'signal', 'background', 'background', 'signal', 'signal', 'background', 'background', 'background', 'signal', 'signal', 'background', 'signal', 'background', 'background', 'background', 'background', 'background', 'background', 'signal', 'background', 'signal', 'background', 'background', 'background', 'background', 'signal', 'signal', 'signal', 'background', 'background', 'background', 'background', 'signal', 'background', 'background', 'signal', 'signal', 'background', 'background', 'background', 'signal', 'background', 'background', 'background', 'signal', 'signal', 'background', 'background', 'signal', 'signal', 'background', 'background', 'background', 'signal', 'signal', 'signal', 'background', 'signal', 'background', 'signal', 'background', 'background', 'background', 'signal', 'background', 'background', 'signal', 'background', 'background', 'background', 'signal', 'background', 'background', 'background', 'signal', 'background', 'background', 'background', 'background', 'background', 'signal', 'background', 'signal', 'background', 'background', 'background', 'background', 'background', 'background', 'background', 'signal', 'background', 'background', 'background', 'background', 'background', 'background', 'signal', 'signal', 'signal', 'background', 'signal', 'background', 'signal', 'background', 'signal', 'background', 'background', 'background', 'signal', 'background', 'signal', 'background', 'background', 'background', 'background', 'background', 'background', 'background', 'background', 'background', 'background', 'background', 'signal', 'background', 'background', 'background', 'background', 'background', 'background', 'signal', 'background', 'background', 'background', 'background', 'background', 'signal', 'background', 'background', 'background', 'signal', 'background', 'background', 'background', 'background', 'background', 'background', 'background', 'signal', 'signal', 'signal', 'background', 'background', 'background', 'background', 'background', 'background', 'signal', 'signal', 'background', 'background', 'background', 'signal', 'background', 'signal', 'signal', 'background', 'background', 'signal', 'signal', 'signal', 'background', 'background', 'background', 'signal', 'background', 'background', 'background', 'signal', 'signal', 'background', 'signal', 'background', 'background', 'background', 'signal', 'background', 'background', 'signal', 'background', 'background', 'signal', 'background', 'background', 'background', 'signal', 'background', 'signal', 'signal', 'background', 'background', 'background', 'background', 'background', 'signal', 'background', 'background', 'background', 'background', 'signal', 'signal', 'background', 'signal', 'background', 'background', 'background', 'background', 'signal', 'background', 'background', 'background', 'background', 'background', 'background', 'background', 'background', 'background', 'background', 'background', 'signal', 'background', 'background', 'background', 'background', 'signal', 'signal', 'background', 'background', 'background', 'background', 'background', 'signal', 'background', 'background', 'background', 'background', 'background', 'signal', 'background', 'signal', 'background', 'signal', 'signal', 'signal', 'signal', 'background', 'signal', 'background', 'background', 'signal', 'signal', 'background', 'background', 'signal', 'background', 'background', 'background', 'background', 'background', 'background', 'background', 'background', 'background', 'signal', 'signal', 'background', 'signal', 'background', 'signal', 'signal', 'background', 'background', 'background', 'background', 'background', 'signal', 'background', 'background', 'background', 'background', 'background', 'signal', 'background', 'background', 'background', 'background', 'background', 'background', 'signal', 'background', 'background', 'background', 'signal', 'signal', 'signal', 'background', 'background', 'background', 'signal', 'background', 'background']\n"
     ]
    }
   ],
   "source": [
    "params = {\n",
    "    'problem': {'name': 'classification', 'random_seed': 420 },\n",
    "    'algorithm': {'name': 'VQC', 'override_SPSA_params': True},\n",
    "    'backend': {'shots': 100},\n",
    "    'optimizer': {'name': 'SPSA', 'max_trials': 20, 'save_steps': 5},\n",
    "    'variational_form': {'name': 'RYRZ', 'depth': 2},\n",
    "    'feature_map': {'name': 'SecondOrderExpansion', 'depth': 1}\n",
    "}\n",
    "\n",
    "classification_input = ClassificationInput(trainDict, testDict, x_test)\n",
    "backend = BasicAer.get_backend('qasm_simulator')\n",
    "\n",
    "result = run_algorithm(params, classification_input, backend=backend)\n",
    "print(\"testing success ratio: \", result['testing_accuracy'])\n",
    "print(\"predicted classes:\", result['predicted_classes'])"
   ]
  },
  {
   "cell_type": "code",
   "execution_count": null,
   "metadata": {},
   "outputs": [],
   "source": []
  }
 ],
 "metadata": {
  "kernelspec": {
   "display_name": "Python 3",
   "language": "python",
   "name": "python3"
  },
  "language_info": {
   "codemirror_mode": {
    "name": "ipython",
    "version": 3
   },
   "file_extension": ".py",
   "mimetype": "text/x-python",
   "name": "python",
   "nbconvert_exporter": "python",
   "pygments_lexer": "ipython3",
   "version": "3.7.3"
  }
 },
 "nbformat": 4,
 "nbformat_minor": 2
}
