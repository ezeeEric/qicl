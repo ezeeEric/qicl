{
 "cells": [
  {
   "cell_type": "markdown",
   "metadata": {},
   "source": [
    "# Reproduction of deuteron calculations (1801.03897)"
   ]
  },
  {
   "cell_type": "code",
   "execution_count": 1,
   "metadata": {},
   "outputs": [],
   "source": [
    "import numpy as np\n",
    "np.warnings.filterwarnings('ignore')\n",
    "\n",
    "from scipy.optimize import minimize\n",
    "\n",
    "from itertools import product\n",
    "\n",
    "# Everything we need from OpenFermion\n",
    "from openfermion.ops import FermionOperator\n",
    "from openfermion.transforms import jordan_wigner\n",
    "from openfermion.transforms import get_sparse_operator\n",
    "from openfermion.utils import get_ground_state\n",
    "\n",
    "# Everything we need from Qiskit\n",
    "from qiskit import ClassicalRegister, QuantumRegister, QuantumCircuit\n",
    "from qiskit import execute, BasicAer\n",
    "from qiskit.visualization import plot_state_paulivec\n",
    "from qiskit.quantum_info.operators.pauli import pauli_group, Pauli"
   ]
  },
  {
   "cell_type": "markdown",
   "metadata": {},
   "source": [
    "## Step 1: Hamiltonians"
   ]
  },
  {
   "cell_type": "code",
   "execution_count": 2,
   "metadata": {},
   "outputs": [],
   "source": [
    "# Specify some of the required constants and functions; units are in MeV\n",
    "V0 = -5.68658111\n",
    "ħω = 7\n",
    "\n",
    "# Kinetic energy coefficients <n'|T|n>\n",
    "def T(n, n_prime):\n",
    "    delta = int(n == n_prime)\n",
    "    delta_p1 = int(n == (n_prime + 1))\n",
    "    delta_m1 = int(n == (n_prime - 1))\n",
    "    \n",
    "    return (ħω/2) * ((2*n + 1.5)*delta - np.sqrt(n*(n+0.5))*delta_p1 - np.sqrt((n+1)*(n+1.5))*delta_m1)\n",
    "\n",
    "# Potential energy coefficients <n'|V|n> = V_0 δ(n, 0) δ(n, n')\n",
    "def V(n, n_prime): \n",
    "    return V0 * int((n == 0) and (n == n_prime))"
   ]
  },
  {
   "cell_type": "code",
   "execution_count": 15,
   "metadata": {},
   "outputs": [],
   "source": [
    "# Construct the Fermionic Hamiltonian\n",
    "def H(N, jw=True):\n",
    "    # T and V for the 0th term are constant\n",
    "    H = FermionOperator('1^ 1', V(0, 0) + T(0, 0))\n",
    "    \n",
    "    for n, n_prime in product(range(N), repeat=2):\n",
    "        if n == 0 and n_prime == 0: # Already made this one\n",
    "            continue\n",
    "            \n",
    "        H += FermionOperator(f\"{n_prime+1}^ {n+1}\", V(n, n_prime) + T(n, n_prime))\n",
    "        \n",
    "    if not jw:\n",
    "        return H\n",
    "    \n",
    "    return jordan_wigner(H)"
   ]
  },
  {
   "cell_type": "code",
   "execution_count": 4,
   "metadata": {},
   "outputs": [
    {
     "data": {
      "text/plain": [
       "-0.43658110999999966 [1^ 1] +\n",
       "-4.286607049870561 [1^ 2] +\n",
       "-4.286607049870561 [2^ 1] +\n",
       "12.25 [2^ 2]"
      ]
     },
     "execution_count": 4,
     "metadata": {},
     "output_type": "execute_result"
    }
   ],
   "source": [
    "H(2, jw=False)"
   ]
  },
  {
   "cell_type": "code",
   "execution_count": 5,
   "metadata": {},
   "outputs": [
    {
     "data": {
      "text/plain": [
       "(8, 8)"
      ]
     },
     "execution_count": 5,
     "metadata": {},
     "output_type": "execute_result"
    }
   ],
   "source": [
    "get_sparse_operator(H(2)).toarray().shape"
   ]
  },
  {
   "cell_type": "code",
   "execution_count": 6,
   "metadata": {},
   "outputs": [],
   "source": [
    "H_test = np.array([[-0.4366, -4.2866, 0, 0],\n",
    "             [-4.2866, 12.25, -7.8262, 0],\n",
    "             [0, -7.8262, 19.25, -11.3413],\n",
    "              [0, 0, -11.3413, 26.25]])"
   ]
  },
  {
   "cell_type": "code",
   "execution_count": 7,
   "metadata": {},
   "outputs": [
    {
     "data": {
      "text/plain": [
       "array([-2.14398753,  6.07153343, 17.7516723 , 35.6341818 ])"
      ]
     },
     "execution_count": 7,
     "metadata": {},
     "output_type": "execute_result"
    }
   ],
   "source": [
    "np.linalg.eigvals(H_test)"
   ]
  },
  {
   "cell_type": "code",
   "execution_count": 8,
   "metadata": {},
   "outputs": [],
   "source": [
    "ID = np.eye(2) / np.sqrt(2)\n",
    "X = np.array([[0, 1], [1, 0]]) / np.sqrt(2)\n",
    "Z = np.array([[1, 0], [0, -1]])/ np.sqrt(2) \n",
    "Y = np.array([[0, -1j], [1j, 0]]) / np.sqrt(2)"
   ]
  },
  {
   "cell_type": "code",
   "execution_count": 9,
   "metadata": {},
   "outputs": [],
   "source": [
    "paulis = {\"II\" : np.kron(ID, ID),\n",
    "         \"IZ\" : np.kron(ID, Z), \n",
    "         \"ZI\" : np.kron(Z, ID),\n",
    "         \"ZZ\" : np.kron(Z, Z),\n",
    "         \"IX\" : np.kron(ID, X),\n",
    "         \"XI\" : np.kron(X, ID),\n",
    "         \"XX\" : np.kron(X, X), \n",
    "         \"XZ\" : np.kron(X, Z),\n",
    "         \"ZX\" : np.kron(Z, X),\n",
    "         \"YY\" : np.kron(Y, Y)}"
   ]
  },
  {
   "cell_type": "code",
   "execution_count": 10,
   "metadata": {},
   "outputs": [
    {
     "name": "stdout",
     "output_type": "stream",
     "text": [
      "II : 28.656699999999994\n",
      "IZ : -9.843299999999996\n",
      "ZI : -16.843299999999996\n",
      "ZZ : -2.8432999999999993\n",
      "IX : -15.627899999999997\n",
      "XI : 0.0\n",
      "XX : -7.826199999999998\n",
      "XZ : 0.0\n",
      "ZX : 7.0546999999999995\n",
      "YY : (-7.826199999999998+0j)\n"
     ]
    }
   ],
   "source": [
    "coeffs = {} \n",
    "\n",
    "for label, mat in paulis.items():\n",
    "    print(f\"{label} : {np.trace(np.dot(H_test, mat))}\")\n",
    "    coeffs[label] = np.trace(np.dot(H_test, mat))"
   ]
  },
  {
   "cell_type": "code",
   "execution_count": 11,
   "metadata": {},
   "outputs": [],
   "source": [
    "acc_H = np.zeros((4, 4))\n",
    "\n",
    "for label, mat in paulis.items():\n",
    "    acc_H += np.trace(np.dot(H_test, mat)).real * mat.real"
   ]
  },
  {
   "cell_type": "code",
   "execution_count": 12,
   "metadata": {},
   "outputs": [
    {
     "data": {
      "text/plain": [
       "array([[ -0.4366,  -4.2866,   0.    ,   0.    ],\n",
       "       [ -4.2866,  12.25  ,  -7.8262,   0.    ],\n",
       "       [  0.    ,  -7.8262,  19.25  , -11.3413],\n",
       "       [  0.    ,   0.    , -11.3413,  26.25  ]])"
      ]
     },
     "execution_count": 12,
     "metadata": {},
     "output_type": "execute_result"
    }
   ],
   "source": [
    "acc_H"
   ]
  },
  {
   "cell_type": "code",
   "execution_count": 13,
   "metadata": {},
   "outputs": [
    {
     "data": {
      "text/plain": [
       "array([[0. , 0.5, 0. , 0. ],\n",
       "       [0.5, 0. , 0. , 0. ],\n",
       "       [0. , 0. , 0. , 0.5],\n",
       "       [0. , 0. , 0.5, 0. ]])"
      ]
     },
     "execution_count": 13,
     "metadata": {},
     "output_type": "execute_result"
    }
   ],
   "source": [
    "paulis[\"IX\"]"
   ]
  },
  {
   "cell_type": "markdown",
   "metadata": {},
   "source": [
    "## Step 2: Exact diagonalization"
   ]
  },
  {
   "cell_type": "code",
   "execution_count": 16,
   "metadata": {},
   "outputs": [
    {
     "name": "stdout",
     "output_type": "stream",
     "text": [
      "Ground state energy of H_1 is -0.4365811099999998 MeV\n",
      "Ground state energy of H_2 is -1.7491598763215317 MeV\n",
      "Ground state energy of H_3 is -2.045670898406443 MeV\n",
      "Ground state energy of H_4 is -2.1439810307998672 MeV\n",
      "Ground state energy of H_5 is -2.1835917100257674 MeV\n",
      "Ground state energy of H_6 is -2.2015681487933088 MeV\n",
      "Ground state energy of H_7 is -2.210415825352825 MeV\n",
      "Ground state energy of H_8 is -2.215037872268044 MeV\n",
      "Ground state energy of H_9 is -2.2175664908674637 MeV\n"
     ]
    }
   ],
   "source": [
    "# Pretty quick up to N ~ 15 regime \n",
    "for N in range(1, 10):\n",
    "    H_N = H(N)\n",
    "    E_N = get_ground_state(get_sparse_operator(H_N))[0]\n",
    "    print(f\"Ground state energy of H_{N} is {E_N} MeV\")"
   ]
  },
  {
   "cell_type": "markdown",
   "metadata": {},
   "source": [
    "## Step 3: Coupled cluster circuits"
   ]
  },
  {
   "cell_type": "code",
   "execution_count": 17,
   "metadata": {},
   "outputs": [],
   "source": [
    "# Straight from Fig. 1\n",
    "# Circuits are different for N = 2 and N = 3\n",
    "def efficient_circuit(t1, t2, t3):\n",
    "    c = ClassicalRegister(2)\n",
    "    q = QuantumRegister(2)\n",
    "    \n",
    "    circuit = QuantumCircuit(q, c)\n",
    "    \n",
    "    circuit.ry(t1, q[0])\n",
    "    circuit.cu3(t2, 0, 0, q[0], q[1])\n",
    "    circuit.cx(q[1], q[0])\n",
    "    circuit.cu3(t3, 0, 0, q[1], q[0])\n",
    "    \n",
    "    return circuit"
   ]
  },
  {
   "cell_type": "markdown",
   "metadata": {},
   "source": [
    "## Step 4: Variational quantum eigensolver"
   ]
  },
  {
   "cell_type": "code",
   "execution_count": 18,
   "metadata": {},
   "outputs": [],
   "source": [
    "# Set up the backend to be the state vector simulator\n",
    "backend = BasicAer.get_backend('statevector_simulator')\n",
    "\n",
    "# Runs a circuit to compute the expectation value of the energy given current parameters\n",
    "def compute_energy(params, N):\n",
    "    energy = 0\n",
    "    \n",
    "    # Create the coupled-cluster circuit and get the output state \n",
    "    circuit = efficient_circuit(*list(params))\n",
    "        \n",
    "    # Run the circuit and get the output state\n",
    "    result = execute(circuit, backend).result()\n",
    "    psi = result.get_statevector(circuit)\n",
    "    rho = np.einsum(\"i,j->ij\", psi, psi)\n",
    "    \n",
    "    # Calculate the energy by calculating the expectation value \n",
    "    # of each Pauli\n",
    "    for pauli, coeff in coeffs.items():\n",
    "        # Calculate the expectation value\n",
    "        exp_val = np.real(np.trace(np.dot(rho, paulis[pauli])))\n",
    "\n",
    "        energy += coeff * exp_val\n",
    "        \n",
    "    return energy"
   ]
  },
  {
   "cell_type": "code",
   "execution_count": 19,
   "metadata": {},
   "outputs": [
    {
     "data": {
      "text/plain": [
       "     fun: -2.143987534364211\n",
       "     jac: array([ 1.16229057e-06, -9.44733620e-06,  1.90734863e-06])\n",
       " message: 'Optimization terminated successfully.'\n",
       "    nfev: 155\n",
       "     nit: 17\n",
       "    njev: 31\n",
       "  status: 0\n",
       " success: True\n",
       "       x: array([0.83783217, 0.92685472, 0.76002402])"
      ]
     },
     "execution_count": 19,
     "metadata": {},
     "output_type": "execute_result"
    }
   ],
   "source": [
    "N= 2\n",
    "# Initialize guesses for parameters and run VQE\n",
    "t = np.random.randn(3)\n",
    "\n",
    "minimize(compute_energy, np.array([t]), args=(N), method='CG', options={'maxiter' : 20})"
   ]
  },
  {
   "cell_type": "markdown",
   "metadata": {},
   "source": [
    "## 3 qubit version"
   ]
  },
  {
   "cell_type": "code",
   "execution_count": 20,
   "metadata": {},
   "outputs": [],
   "source": [
    "# Straight from Fig. 1\n",
    "# Circuits are different for N = 2 and N = 3\n",
    "def efficient_circuit_3(t1, t2, t3, t4, t5, t6, t7):\n",
    "    c = ClassicalRegister(2)\n",
    "    q = QuantumRegister(2)\n",
    "    \n",
    "    circuit = QuantumCircuit(q, c)\n",
    "    \n",
    "    circuit.ry(t1, q[0])\n",
    "    circuit.cu3(t2, 0, 0, q[0], q[1])\n",
    "    circuit.cx(q[1], q[0])\n",
    "    circuit.cu3(t3, 0, 0, q[1], q[0])\n",
    "    \n",
    "    return circuit"
   ]
  },
  {
   "cell_type": "code",
   "execution_count": null,
   "metadata": {},
   "outputs": [],
   "source": []
  }
 ],
 "metadata": {
  "kernelspec": {
   "display_name": "qiskit",
   "language": "python",
   "name": "qiskit"
  },
  "language_info": {
   "codemirror_mode": {
    "name": "ipython",
    "version": 3
   },
   "file_extension": ".py",
   "mimetype": "text/x-python",
   "name": "python",
   "nbconvert_exporter": "python",
   "pygments_lexer": "ipython3",
   "version": "3.7.4"
  }
 },
 "nbformat": 4,
 "nbformat_minor": 2
}
